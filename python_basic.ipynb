{
  "nbformat": 4,
  "nbformat_minor": 0,
  "metadata": {
    "colab": {
      "provenance": []
    },
    "kernelspec": {
      "name": "python3",
      "display_name": "Python 3"
    },
    "language_info": {
      "name": "python"
    }
  },
  "cells": [
    {
      "cell_type": "markdown",
      "source": [
        "1. What is Python, and why is it popular\n",
        "   - Python is a high-level, interpreted programming language known for its simplicity, readability, and versatility. It's widely used across many domains—from web development and data science to automation and artificial intelligence\n",
        "   - it's easy to learn, Versatile, Huge ecosystem, Large community, Rapid devlopment\n",
        "\n",
        "2. What is an interpreter in Python\n",
        "  - An interpreter in Python is a program that reads and executes Python code line by line.\n",
        "\n",
        "\n",
        "3. What are pre-defined keywords in Python\n",
        "  - Pre-defined keywords in Python are reserved words that have special meaning and purpose in the language.\n",
        "\n",
        "\n",
        "4. Can keywords be used as variable names\n",
        "\n",
        "  - No keywords cannot be used as variable names in Python.\n",
        "\n",
        "\n",
        "5. What is mutability in Python\n",
        "  -  Mutability in Python refers to whether an object’s value can be changed after it’s created\n",
        "\n",
        "\n",
        "6. Why are lists mutable, but tuples are immutable\n",
        "  - Lists are mutable because they’re designed for dynamic data—you can add, remove, or change elements.\n",
        "They use a flexible memory structure that allows modifications.\n",
        "Tuples are immutable to ensure data integrity and improve performance.\n",
        "Their fixed nature makes them safer for use in contexts like dictionary keys or constant data.\n",
        "\n",
        "\n",
        "7. What is the difference between “==” and “is” operators in Python ?\n",
        " - The == operator checks value equality—whether two objects have the same content.\n",
        "\n",
        " - The is operator checks identity—whether two references point to the same object in memory.\n",
        "\n",
        "8. What are logical operators in Python ?\n",
        "\n",
        " -  Logical operators in Python are used to combine or evaluate boolean expressions.\n",
        "They return True or False based on the logic of the operands.\n",
        "\n",
        "9. What is type casting in Python?\n",
        "\n",
        " -  Type casting in Python means converting a value from one data type to another.\n",
        "\n",
        "10. What is the difference between implicit and explicit type casting?\n",
        "\n",
        " - Implicit type casting in Python happens automatically when mixing data types in expressions—Python converts types to avoid errors.\n",
        "  - Explicit type casting is done manually using functions like int(), float(), or str() to convert between types\n",
        "\n",
        "11. What is the purpose of conditional statements in Python ?\n",
        "\n",
        " - Conditional statements in Python let the program make decisions and execute code based on whether a condition is true or false.\n",
        "\n",
        "12. How does the elif statement work ?\n",
        " - The elif statement checks another condition if the previous if was false.\n",
        "It allows multiple conditions to be tested in sequence\n",
        "\n",
        "13. What is the difference between for and while loops?\n",
        "\n",
        " -  for loop: Used when you know how many times to iterate\n",
        "\n",
        " -  while loop: Used when you want to loop until a condition is false.\n",
        "\n",
        "14. Describe a scenario where a while loop is more suitable than a for loop.\n",
        "\n",
        " - A while loop is better when the number of iterations isn’t known in advance.\n",
        "For example, asking a user to enter a correct password until they get it right.\n",
        "It keeps running as long as the condition is true.\n",
        "This makes it ideal for input validation or waiting for a specific event.\n",
        "\n",
        "\n",
        "\n"
      ],
      "metadata": {
        "id": "7WYJmYbU8eKc"
      }
    },
    {
      "cell_type": "markdown",
      "source": [
        "                                                               Practical Answer\n",
        "                                                               "
      ],
      "metadata": {
        "id": "UJj6MjVWDUFn"
      }
    },
    {
      "cell_type": "code",
      "source": [
        "#  Write a Python program to print \"Hello, World!\"\n",
        "print (\"hello, world\")"
      ],
      "metadata": {
        "colab": {
          "base_uri": "https://localhost:8080/"
        },
        "id": "9sv3fPeSDccc",
        "outputId": "c94b8666-0610-443d-9bfc-136b0c7c3c57"
      },
      "execution_count": 1,
      "outputs": [
        {
          "output_type": "stream",
          "name": "stdout",
          "text": [
            "hello, world\n"
          ]
        }
      ]
    },
    {
      "cell_type": "code",
      "source": [
        "# Write a Python program that displays your name and age8\n",
        "# Program to display name and age\n",
        "name = \"shubham\"\n",
        "age = 26\n",
        "\n",
        "print(\"My name is\", name)\n",
        "print(\"I am\", age, \"years old\")"
      ],
      "metadata": {
        "colab": {
          "base_uri": "https://localhost:8080/"
        },
        "id": "CkcHv48CDwh7",
        "outputId": "1a6257dc-eb16-43e7-9a59-2ea3e09b2d96"
      },
      "execution_count": 2,
      "outputs": [
        {
          "output_type": "stream",
          "name": "stdout",
          "text": [
            "My name is shubham\n",
            "I am 26 years old\n"
          ]
        }
      ]
    },
    {
      "cell_type": "code",
      "source": [
        "# Write code to print all the pre-defined keywords in Python using the keyword library8\n",
        "import keyword\n",
        "\n",
        "print(\"Python Keywords:\")\n",
        "print(keyword.kwlist)"
      ],
      "metadata": {
        "colab": {
          "base_uri": "https://localhost:8080/"
        },
        "id": "GVLvQJTcELjK",
        "outputId": "76f6d8dd-cb12-406e-a425-6d70247d5b36"
      },
      "execution_count": 7,
      "outputs": [
        {
          "output_type": "stream",
          "name": "stdout",
          "text": [
            "Python Keywords:\n",
            "['False', 'None', 'True', 'and', 'as', 'assert', 'async', 'await', 'break', 'class', 'continue', 'def', 'del', 'elif', 'else', 'except', 'finally', 'for', 'from', 'global', 'if', 'import', 'in', 'is', 'lambda', 'nonlocal', 'not', 'or', 'pass', 'raise', 'return', 'try', 'while', 'with', 'yield']\n"
          ]
        }
      ]
    },
    {
      "cell_type": "code",
      "source": [
        "#  Write a program that checks if a given word is a Python keyword.\n",
        "word = input(\"Enter a word: \")\n",
        "\n",
        "if keyword.iskeyword(word):\n",
        "    print(f\"'{word}' is a Python keyword.\")\n",
        "else:\n",
        "    print(f\"'{word}' is not a Python keyword.\")\n"
      ],
      "metadata": {
        "colab": {
          "base_uri": "https://localhost:8080/"
        },
        "id": "aUmEdV5tEo4C",
        "outputId": "720174af-1cbd-4cbd-c6e5-72a0d933054c"
      },
      "execution_count": 8,
      "outputs": [
        {
          "output_type": "stream",
          "name": "stdout",
          "text": [
            "Enter a word: int\n",
            "'int' is not a Python keyword.\n"
          ]
        }
      ]
    },
    {
      "cell_type": "code",
      "source": [
        "#  Create a list and tuple in Python, and demonstrate how attempting to change an element works differently for each.\n",
        "my_list = [1, 2, 3]\n",
        "my_tuple = (1, 2, 3)\n",
        "\n",
        "my_list[0] = 10\n",
        "print(\"Modified list:\", my_list)"
      ],
      "metadata": {
        "colab": {
          "base_uri": "https://localhost:8080/"
        },
        "id": "hH-vICKjFPe4",
        "outputId": "37f446f2-7135-464d-a2d0-d21537ca57f6"
      },
      "execution_count": 9,
      "outputs": [
        {
          "output_type": "stream",
          "name": "stdout",
          "text": [
            "Modified list: [10, 2, 3]\n"
          ]
        }
      ]
    },
    {
      "cell_type": "code",
      "source": [
        "#6. Write a function to demonstrate the behavior of mutable and immutable arguments.\n",
        "\n",
        "def change_values(a, b):\n",
        "    a += 5\n",
        "    b.append(4)\n",
        "    print(\"Inside function:\")\n",
        "    print(\"a =\", a)\n",
        "    print(\"b =\", b)\n",
        "x = 10\n",
        "y = [1, 2, 3]\n",
        "\n",
        "change_values(x, y)\n",
        "\n",
        "print(\"\\nOutside function:\")\n",
        "print(\"x =\", x)\n",
        "print(\"y =\", y)\n"
      ],
      "metadata": {
        "colab": {
          "base_uri": "https://localhost:8080/"
        },
        "id": "c8t2-YKPF3H2",
        "outputId": "3040f91f-193b-4074-8205-ae445da1f791"
      },
      "execution_count": 11,
      "outputs": [
        {
          "output_type": "stream",
          "name": "stdout",
          "text": [
            "Inside function:\n",
            "a = 15\n",
            "b = [1, 2, 3, 4]\n",
            "\n",
            "Outside function:\n",
            "x = 10\n",
            "y = [1, 2, 3, 4]\n"
          ]
        }
      ]
    },
    {
      "cell_type": "code",
      "source": [
        "#7. Write a program that performs basic arithmetic operations on two user-input numbers.\n",
        "a = 4\n",
        "b = 5\n",
        "print(\"Addition:\", a + b)\n",
        "print(\"Subtraction:\", a - b)\n",
        "print(\"Multiplication:\", a * b)\n",
        "print(\"Division:\", a / b)"
      ],
      "metadata": {
        "colab": {
          "base_uri": "https://localhost:8080/"
        },
        "id": "expgtBywGb8Q",
        "outputId": "dd96ebcd-f0cb-4da2-ea93-d10c632c2b18"
      },
      "execution_count": 12,
      "outputs": [
        {
          "output_type": "stream",
          "name": "stdout",
          "text": [
            "Addition: 9\n",
            "Subtraction: -1\n",
            "Multiplication: 20\n",
            "Division: 0.8\n"
          ]
        }
      ]
    },
    {
      "cell_type": "code",
      "source": [
        "# 8. Write a program to demonstrate the use of logical operators.\n",
        "a = 10\n",
        "b = 5\n",
        "print(\"a > 5 and b < 10:\", a > 5 and b < 10)\n",
        "print(\"a < 5 or b < 10:\", a < 5 or b < 10)\n",
        "print(\"not(a < b):\", not(a < b))"
      ],
      "metadata": {
        "colab": {
          "base_uri": "https://localhost:8080/"
        },
        "id": "Ql7oAboiPOL2",
        "outputId": "d8c3f6a7-b26b-436e-8f82-3dac7fe155b2"
      },
      "execution_count": 13,
      "outputs": [
        {
          "output_type": "stream",
          "name": "stdout",
          "text": [
            "a > 5 and b < 10: True\n",
            "a < 5 or b < 10: True\n",
            "not(a < b): True\n"
          ]
        }
      ]
    },
    {
      "cell_type": "code",
      "source": [
        "#9. Write a Python program to convert user input from string to integer, float, and boolean types.\n",
        "# Get input from the user\n",
        "user_input = input(\"Put Value\")\n",
        "\n",
        "# Convert to different types\n",
        "int_value = int(user_input)\n",
        "float_value = float(user_input)\n",
        "bool_value = bool(user_input)\n",
        "\n",
        "# Display the results\n",
        "print(\"As Integer:\", int_value)\n",
        "print(\"As Float:\", float_value)\n",
        "print(\"As Boolean:\", bool_value)"
      ],
      "metadata": {
        "colab": {
          "base_uri": "https://localhost:8080/"
        },
        "id": "IlFzBNxQQF3G",
        "outputId": "c54df338-f211-4049-d46b-ed46d3e8fc43"
      },
      "execution_count": 17,
      "outputs": [
        {
          "output_type": "stream",
          "name": "stdout",
          "text": [
            "Put Value2\n",
            "As Integer: 2\n",
            "As Float: 2.0\n",
            "As Boolean: True\n"
          ]
        }
      ]
    },
    {
      "cell_type": "code",
      "source": [
        "# 10. Write code to demonstrate type casting with list elements.\n",
        "# List of string numbers\n",
        "str_list = [\"1\", \"2\", \"3\", \"4\"]\n",
        "\n",
        "# Convert each element to integer\n",
        "int_list = [int(x) for x in str_list]\n",
        "\n",
        "# Convert each element to float\n",
        "float_list = [float(x) for x in str_list]\n",
        "\n",
        "# Convert each element to boolean\n",
        "bool_list = [bool(x) for x in str_list]\n",
        "\n",
        "# Display results\n",
        "print(\"Original list (strings):\", str_list)\n",
        "print(\"As integers:\", int_list)\n",
        "print(\"As floats:\", float_list)\n",
        "print(\"As booleans:\", bool_list)"
      ],
      "metadata": {
        "colab": {
          "base_uri": "https://localhost:8080/"
        },
        "id": "8HQE2YfdQM46",
        "outputId": "75a1c14b-cea2-4294-b0a7-bd607172fcf6"
      },
      "execution_count": 18,
      "outputs": [
        {
          "output_type": "stream",
          "name": "stdout",
          "text": [
            "Original list (strings): ['1', '2', '3', '4']\n",
            "As integers: [1, 2, 3, 4]\n",
            "As floats: [1.0, 2.0, 3.0, 4.0]\n",
            "As booleans: [True, True, True, True]\n"
          ]
        }
      ]
    },
    {
      "cell_type": "code",
      "source": [
        "#12. Write a for loop to print numbers from 1 to 10.\n",
        "\n",
        "for num in range(1, 10):\n",
        "    print(num)\n"
      ],
      "metadata": {
        "colab": {
          "base_uri": "https://localhost:8080/"
        },
        "id": "qTtzlt0aSMVU",
        "outputId": "81fc8461-bafe-4133-99c1-c9011fabfd5d"
      },
      "execution_count": 20,
      "outputs": [
        {
          "output_type": "stream",
          "name": "stdout",
          "text": [
            "1\n",
            "2\n",
            "3\n",
            "4\n",
            "5\n",
            "6\n",
            "7\n",
            "8\n",
            "9\n"
          ]
        }
      ]
    },
    {
      "cell_type": "code",
      "source": [
        "# 13. Write a Python program to find the sum of all even numbers between 1 and 50.\n",
        "\n",
        "total = 0\n",
        "for num in range(1, 51):\n",
        "    if num % 2 == 0:\n",
        "        total += num\n",
        "print(\"Sum of even numbers from 1 to 50 is:\", total)"
      ],
      "metadata": {
        "colab": {
          "base_uri": "https://localhost:8080/"
        },
        "id": "Gr281foTS2A7",
        "outputId": "da79d6c9-1f0b-4337-fb71-5236a9f1f14f"
      },
      "execution_count": 21,
      "outputs": [
        {
          "output_type": "stream",
          "name": "stdout",
          "text": [
            "Sum of even numbers from 1 to 50 is: 650\n"
          ]
        }
      ]
    },
    {
      "cell_type": "code",
      "source": [
        "# 14. Write a program to reverse a string using a while loop.\n",
        "# I didn't undertstand this question and hard to determ"
      ],
      "metadata": {
        "id": "WFVR5AATTPEW"
      },
      "execution_count": 22,
      "outputs": []
    },
    {
      "cell_type": "code",
      "source": [
        "#15. Write a Python program to calculate the factorial of a number provided by the user using a while loop.\n",
        "if num < 0:\n",
        "   print(\"Sorry, factorial does not exist for negative numbers\")\n",
        "elif num == 0:\n",
        "   print(\"The factorial of 0 is 1\")\n",
        "else:\n",
        "   for i in range(1,num + 1):\n",
        "       factorial = factorial*i\n",
        "   print(\"The factorial of\",num,\"is\",factorial)"
      ],
      "metadata": {
        "colab": {
          "base_uri": "https://localhost:8080/",
          "height": 193
        },
        "id": "VuJzdjB1UC5O",
        "outputId": "c14cb3f4-1b2d-48a2-dd67-01cc51f4bcd5"
      },
      "execution_count": 24,
      "outputs": [
        {
          "output_type": "error",
          "ename": "NameError",
          "evalue": "name 'factorial' is not defined",
          "traceback": [
            "\u001b[0;31m---------------------------------------------------------------------------\u001b[0m",
            "\u001b[0;31mNameError\u001b[0m                                 Traceback (most recent call last)",
            "\u001b[0;32m/tmp/ipython-input-24-2478164707.py\u001b[0m in \u001b[0;36m<cell line: 0>\u001b[0;34m()\u001b[0m\n\u001b[1;32m      6\u001b[0m \u001b[0;32melse\u001b[0m\u001b[0;34m:\u001b[0m\u001b[0;34m\u001b[0m\u001b[0;34m\u001b[0m\u001b[0m\n\u001b[1;32m      7\u001b[0m    \u001b[0;32mfor\u001b[0m \u001b[0mi\u001b[0m \u001b[0;32min\u001b[0m \u001b[0mrange\u001b[0m\u001b[0;34m(\u001b[0m\u001b[0;36m1\u001b[0m\u001b[0;34m,\u001b[0m\u001b[0mnum\u001b[0m \u001b[0;34m+\u001b[0m \u001b[0;36m1\u001b[0m\u001b[0;34m)\u001b[0m\u001b[0;34m:\u001b[0m\u001b[0;34m\u001b[0m\u001b[0;34m\u001b[0m\u001b[0m\n\u001b[0;32m----> 8\u001b[0;31m        \u001b[0mfactorial\u001b[0m \u001b[0;34m=\u001b[0m \u001b[0mfactorial\u001b[0m\u001b[0;34m*\u001b[0m\u001b[0mi\u001b[0m\u001b[0;34m\u001b[0m\u001b[0;34m\u001b[0m\u001b[0m\n\u001b[0m\u001b[1;32m      9\u001b[0m    \u001b[0mprint\u001b[0m\u001b[0;34m(\u001b[0m\u001b[0;34m\"The factorial of\"\u001b[0m\u001b[0;34m,\u001b[0m\u001b[0mnum\u001b[0m\u001b[0;34m,\u001b[0m\u001b[0;34m\"is\"\u001b[0m\u001b[0;34m,\u001b[0m\u001b[0mfactorial\u001b[0m\u001b[0;34m)\u001b[0m\u001b[0;34m\u001b[0m\u001b[0;34m\u001b[0m\u001b[0m\n",
            "\u001b[0;31mNameError\u001b[0m: name 'factorial' is not defined"
          ]
        }
      ]
    },
    {
      "cell_type": "code",
      "source": [],
      "metadata": {
        "id": "EeKQ7OvAUUOF"
      },
      "execution_count": null,
      "outputs": []
    }
  ]
}